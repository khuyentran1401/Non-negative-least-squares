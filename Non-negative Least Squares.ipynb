{
 "cells": [
  {
   "cell_type": "markdown",
   "metadata": {},
   "source": [
    "# Non-negative Least Squares\n",
    "\n",
    "$\\underset{\\beta}{\\text{min}} \\;\\; f(\\beta) = \\frac{1}{2}\\| A\\beta - y \\|_2^2 \\;\\; s.t. \\;\\; \\beta \\geq 0$ "
   ]
  },
  {
   "cell_type": "markdown",
   "metadata": {},
   "source": [
    "Gradient Descent: $ \\beta^{t+1} = \\beta^{t}- \\alpha\\nabla f^{t} $"
   ]
  },
  {
   "cell_type": "code",
   "execution_count": 1,
   "metadata": {},
   "outputs": [],
   "source": [
    "import matplotlib.pyplot as plt\n",
    "import numpy as np"
   ]
  },
  {
   "cell_type": "code",
   "execution_count": 2,
   "metadata": {},
   "outputs": [
    {
     "data": {
      "text/plain": [
       "array([[ 1.        ,  3.03597151],\n",
       "       [ 1.375     ,  3.2302178 ],\n",
       "       [ 1.75      ,  5.08266774],\n",
       "       [ 2.125     ,  4.23354607],\n",
       "       [ 2.5       ,  7.71551192],\n",
       "       [ 2.875     ,  7.05312961],\n",
       "       [ 3.25      ,  6.94949779],\n",
       "       [ 3.625     ,  7.36438749],\n",
       "       [ 4.        ,  9.75842806],\n",
       "       [ 4.375     ,  8.84894433],\n",
       "       [ 4.75      , 10.01576236],\n",
       "       [ 5.125     , 11.1044545 ],\n",
       "       [ 5.5       , 12.20425869],\n",
       "       [ 5.875     , 12.12149631],\n",
       "       [ 6.25      , 12.74449077],\n",
       "       [ 6.625     , 13.88234691],\n",
       "       [ 7.        , 15.70490695],\n",
       "       [ 7.375     , 13.55570249],\n",
       "       [ 7.75      , 15.68780051],\n",
       "       [ 8.125     , 16.10741561],\n",
       "       [ 8.5       , 16.83931854],\n",
       "       [ 8.875     , 18.3585273 ],\n",
       "       [ 9.25      , 18.36130798],\n",
       "       [ 9.625     , 18.74166417],\n",
       "       [10.        , 18.56404935]])"
      ]
     },
     "execution_count": 2,
     "metadata": {},
     "output_type": "execute_result"
    }
   ],
   "source": [
    "data = np.loadtxt('dataA.txt')\n",
    "data"
   ]
  },
  {
   "cell_type": "code",
   "execution_count": 3,
   "metadata": {},
   "outputs": [],
   "source": [
    "x = data[:,0]"
   ]
  },
  {
   "cell_type": "code",
   "execution_count": 4,
   "metadata": {},
   "outputs": [
    {
     "data": {
      "text/plain": [
       "array([ 3.03597151,  3.2302178 ,  5.08266774,  4.23354607,  7.71551192,\n",
       "        7.05312961,  6.94949779,  7.36438749,  9.75842806,  8.84894433,\n",
       "       10.01576236, 11.1044545 , 12.20425869, 12.12149631, 12.74449077,\n",
       "       13.88234691, 15.70490695, 13.55570249, 15.68780051, 16.10741561,\n",
       "       16.83931854, 18.3585273 , 18.36130798, 18.74166417, 18.56404935])"
      ]
     },
     "execution_count": 4,
     "metadata": {},
     "output_type": "execute_result"
    }
   ],
   "source": [
    "y = data[:,1]\n",
    "y"
   ]
  },
  {
   "cell_type": "code",
   "execution_count": 5,
   "metadata": {},
   "outputs": [],
   "source": [
    "def plotMyData(x, y):\n",
    "    # STEP 1: Create a canvas\n",
    "    fig, ax = plt.subplots(nrows=1, ncols=1, figsize=(10, 10))\n",
    "    \n",
    "    #----------------------------------------------------#\n",
    "    #This can be modified\n",
    "    \n",
    "    # STEP 2: Plot something\n",
    "    ax.scatter(x, y, marker = 'x', color = 'blue', label = 'MyPoints')\n",
    "    #ax.clear() if you want to remove the previous plot\n",
    "    #----------------------------------------------------#\n",
    "    \n",
    "    #STEP 3: Compute and set better ticks\n",
    "        \n",
    "    xmin, xmax= min(x), max(x)\n",
    "    \n",
    "    ymin, ymax = min(y), max(y)\n",
    "    \n",
    "    ax.set_yticks(np.linspace(int(ymin)-1, int(ymax+1) + 1, 5))\n",
    "    \n",
    "    #Specify the size of the ticks\n",
    "    ax.tick_params(axis='both', labelsize=10)\n",
    "    \n",
    "    #STEP 4: Set labels\n",
    "    ax.set_xlabel('x-axis',fontsize=16)\n",
    "    ax.set_ylabel('y-axis', fontsize=16)\n",
    "    \n",
    "    #STEP 5: Set General Info\n",
    "    ax.set_title(r'Simple Plot for y', fontsize=20)\n",
    "    \n",
    "    ax.legend(loc='upper left')\n",
    "    \n",
    "    #Show the grid\n",
    "    ax.grid(b = True)\n",
    "        \n",
    "    #fig.savefig(\"SimplePlot.png\", dpi = 200)"
   ]
  },
  {
   "cell_type": "code",
   "execution_count": 6,
   "metadata": {},
   "outputs": [
    {
     "data": {
      "image/png": "[encoded data removed]",
      "text/plain": [
       "<Figure size 720x720 with 1 Axes>"
      ]
     },
     "metadata": {
      "needs_background": "light"
     },
     "output_type": "display_data"
    }
   ],
   "source": [
    "plotMyData(x, y)"
   ]
  },
  {
   "cell_type": "markdown",
   "metadata": {},
   "source": [
    "# Construct Matrix A"
   ]
  },
  {
   "cell_type": "code",
   "execution_count": 7,
   "metadata": {},
   "outputs": [],
   "source": [
    "n = data.shape[0]"
   ]
  },
  {
   "cell_type": "code",
   "execution_count": 8,
   "metadata": {},
   "outputs": [],
   "source": [
    "A = np.ones((n,2))"
   ]
  },
  {
   "cell_type": "code",
   "execution_count": 9,
   "metadata": {},
   "outputs": [],
   "source": [
    "#The second column is the value of the x variables\n",
    "A[:,1] = x"
   ]
  },
  {
   "cell_type": "code",
   "execution_count": 10,
   "metadata": {},
   "outputs": [
    {
     "data": {
      "text/plain": [
       "array([[ 1.   ,  1.   ],\n",
       "       [ 1.   ,  1.375],\n",
       "       [ 1.   ,  1.75 ],\n",
       "       [ 1.   ,  2.125],\n",
       "       [ 1.   ,  2.5  ],\n",
       "       [ 1.   ,  2.875],\n",
       "       [ 1.   ,  3.25 ],\n",
       "       [ 1.   ,  3.625],\n",
       "       [ 1.   ,  4.   ],\n",
       "       [ 1.   ,  4.375],\n",
       "       [ 1.   ,  4.75 ],\n",
       "       [ 1.   ,  5.125],\n",
       "       [ 1.   ,  5.5  ],\n",
       "       [ 1.   ,  5.875],\n",
       "       [ 1.   ,  6.25 ],\n",
       "       [ 1.   ,  6.625],\n",
       "       [ 1.   ,  7.   ],\n",
       "       [ 1.   ,  7.375],\n",
       "       [ 1.   ,  7.75 ],\n",
       "       [ 1.   ,  8.125],\n",
       "       [ 1.   ,  8.5  ],\n",
       "       [ 1.   ,  8.875],\n",
       "       [ 1.   ,  9.25 ],\n",
       "       [ 1.   ,  9.625],\n",
       "       [ 1.   , 10.   ]])"
      ]
     },
     "execution_count": 10,
     "metadata": {},
     "output_type": "execute_result"
    }
   ],
   "source": [
    "A"
   ]
  },
  {
   "cell_type": "markdown",
   "metadata": {},
   "source": [
    "# Gradient Descent for NNLS"
   ]
  },
  {
   "cell_type": "code",
   "execution_count": 13,
   "metadata": {},
   "outputs": [],
   "source": [
    "def gd_nnls(A, y, max_iter, alpha):\n",
    "    \n",
    "    #Initialize b between 0 and 1 with nx2 dim\n",
    "    dim = A.shape[1]\n",
    "    b = np.random.random(dim)\n",
    "    \n",
    "    #The minimum value of the distance of the function\n",
    "    minFb = []\n",
    "    grad = []\n",
    "    \n",
    "    for t in range(max_iter):\n",
    "        \n",
    "        #Compute the gradient\n",
    "        g = (A.T @ A ) @ b - A.T @ y\n",
    "        \n",
    "        #We want to move in a specific direction but we don't care how much\n",
    "        g /= np.linalg.norm(g)\n",
    "        \n",
    "        #Compute the next position\n",
    "        b = b - alpha * g\n",
    "        \n",
    "        #Keep track of error and norm of gradient\n",
    "        minFb.append(0.5 * np.linalg.norm( A@b - y) )\n",
    "        grad.append( np.linalg.norm(g))\n",
    "        \n",
    "    return {'b':b, 'minFb': minFb, 'grad':grad}\n",
    "    "
   ]
  },
  {
   "cell_type": "code",
   "execution_count": 14,
   "metadata": {},
   "outputs": [],
   "source": [
    "sol = gd_nnls(A, y, 100, 0.1)\n"
   ]
  },
  {
   "cell_type": "markdown",
   "metadata": {},
   "source": [
    "# Plot the erros during iterations"
   ]
  },
  {
   "cell_type": "code",
   "execution_count": 16,
   "metadata": {},
   "outputs": [],
   "source": [
    "def plot02(max_iter, alpha):\n",
    "    # STEP 1: Create a canvas\n",
    "    fig, ax = plt.subplots(nrows=1, ncols=1, figsize=(10, 10))\n",
    "    \n",
    "    #----------------------------------------------------#\n",
    "    #This can be modified\n",
    "    \n",
    "    # STEP 2: Plot something\n",
    "    sol = gd_nnls(A, y, max_iter, alpha)\n",
    "    ax.plot(sol['minFb'], marker = 'x', color = 'blue', label = 'MyPoints')\n",
    "    #ax.clear() if you want to remove the previous plot\n",
    "    #----------------------------------------------------#\n",
    "    \n",
    "    #STEP 3: Compute and set better ticks\n",
    "        \n",
    "    xmin, xmax= min(x), max(x)\n",
    "    \n",
    "    ymin, ymax = min(y), max(y)\n",
    "    \n",
    "    ax.set_yticks(np.linspace(int(ymin)-1, int(ymax+1) + 1, 5))\n",
    "    \n",
    "    #Specify the size of the ticks\n",
    "    ax.tick_params(axis='both', labelsize=10)\n",
    "    \n",
    "    #STEP 4: Set labels\n",
    "    ax.set_xlabel('x-axis',fontsize=16)\n",
    "    ax.set_ylabel('y-axis', fontsize=16)\n",
    "    \n",
    "    #STEP 5: Set General Info\n",
    "    ax.set_title(r'Value of f over iterations', fontsize=20)\n",
    "    \n",
    "    ax.legend(loc='upper left')\n",
    "    \n",
    "    #Show the grid\n",
    "    ax.grid(b = True)\n",
    "        \n",
    "    #fig.savefig(\"SimplePlot.png\", dpi = 200)"
   ]
  },
  {
   "cell_type": "code",
   "execution_count": 17,
   "metadata": {},
   "outputs": [
    {
     "data": {
      "image/png": "[encoded data removed]",
      "text/plain": [
       "<Figure size 720x720 with 1 Axes>"
      ]
     },
     "metadata": {
      "needs_background": "light"
     },
     "output_type": "display_data"
    }
   ],
   "source": [
    "plot02(20, 0.1)"
   ]
  },
  {
   "cell_type": "markdown",
   "metadata": {},
   "source": [
    "# Plot the fitting line"
   ]
  },
  {
   "cell_type": "code",
   "execution_count": 18,
   "metadata": {},
   "outputs": [],
   "source": [
    "def plot01(x, y, b):\n",
    "    # STEP 1: Create a canvas\n",
    "    fig, ax = plt.subplots(nrows=1, ncols=1, figsize=(10, 10))\n",
    "    \n",
    "    #----------------------------------------------------#\n",
    "    #This can be modified\n",
    "    \n",
    "    # STEP 2: Plot something\n",
    "    ax.scatter(x, y, marker = 'x', color = 'blue', label = 'MyPoints')\n",
    "    ax.plot(x, b[0] + b[1]*x, color = 'red', label = 'Fitted Line')\n",
    "    #ax.clear() if you want to remove the previous plot\n",
    "    #----------------------------------------------------#\n",
    "    \n",
    "    #STEP 3: Compute and set better ticks\n",
    "        \n",
    "    xmin, xmax= min(x), max(x)\n",
    "    \n",
    "    ymin, ymax = min(y), max(y)\n",
    "    \n",
    "    ax.set_yticks(np.linspace(int(ymin)-1, int(ymax+1) + 1, 5))\n",
    "    \n",
    "    #Specify the size of the ticks\n",
    "    ax.tick_params(axis='both', labelsize=10)\n",
    "    \n",
    "    #STEP 4: Set labels\n",
    "    ax.set_xlabel('x-axis',fontsize=16)\n",
    "    ax.set_ylabel('y-axis', fontsize=16)\n",
    "    \n",
    "    #STEP 5: Set General Info\n",
    "    ax.set_title(r'Simple Plot for y', fontsize=20)\n",
    "    \n",
    "    ax.legend(loc='upper left')\n",
    "    \n",
    "    #Show the grid\n",
    "    ax.grid(b = True)\n",
    "        \n",
    "    #fig.savefig(\"SimplePlot.png\", dpi = 200)"
   ]
  },
  {
   "cell_type": "code",
   "execution_count": 19,
   "metadata": {},
   "outputs": [],
   "source": [
    "sol = gd_nnls(A, y, 20, 0.1)\n",
    "b = sol['b']"
   ]
  },
  {
   "cell_type": "code",
   "execution_count": 20,
   "metadata": {
    "scrolled": true
   },
   "outputs": [
    {
     "data": {
      "image/png": "[encoded data removed]",
      "text/plain": [
       "<Figure size 720x720 with 1 Axes>"
      ]
     },
     "metadata": {
      "needs_background": "light"
     },
     "output_type": "display_data"
    }
   ],
   "source": [
    "plot01(x,y, sol['b'])"
   ]
  },
  {
   "cell_type": "code",
   "execution_count": null,
   "metadata": {},
   "outputs": [],
   "source": []
  },
  {
   "cell_type": "code",
   "execution_count": null,
   "metadata": {},
   "outputs": [],
   "source": []
  }
 ],
 "metadata": {
  "kernelspec": {
   "display_name": "Python 3",
   "language": "python",
   "name": "python3"
  },
  "language_info": {
   "codemirror_mode": {
    "name": "ipython",
    "version": 3
   },
   "file_extension": ".py",
   "mimetype": "text/x-python",
   "name": "python",
   "nbconvert_exporter": "python",
   "pygments_lexer": "ipython3",
   "version": "3.7.4"
  }
 },
 "nbformat": 4,
 "nbformat_minor": 2
}
